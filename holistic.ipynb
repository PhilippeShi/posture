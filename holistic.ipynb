{
 "cells": [
  {
   "cell_type": "code",
   "execution_count": null,
   "id": "11f883fb",
   "metadata": {},
   "outputs": [],
   "source": [
    "# This is only necessary when using Jupyter Notebook\n",
    "import sys\n",
    "sys.path.append('C:/Users/phili/AppData/Local/Programs/Python/Python39/Lib/site-packages/')"
   ]
  },
  {
   "cell_type": "code",
   "execution_count": null,
   "id": "a5f89e63",
   "metadata": {},
   "outputs": [],
   "source": [
    "import cv2\n",
    "import mediapipe as mp\n",
    "mp_drawing = mp.solutions.drawing_utils\n",
    "mp_drawing_styles = mp.solutions.drawing_styles\n",
    "mp_holistic = mp.solutions.holistic"
   ]
  },
  {
   "cell_type": "code",
   "execution_count": null,
   "id": "e3be767a",
   "metadata": {},
   "outputs": [],
   "source": [
    "cap = cv2.VideoCapture(1)\n",
    "with mp_holistic.Holistic(\n",
    "    min_detection_confidence=0.5,\n",
    "    min_tracking_confidence=0.5,\n",
    "    enable_segmentation=False) as holistic:\n",
    "  while cap.isOpened():\n",
    "    success, image = cap.read()\n",
    "    if not success:\n",
    "      print(\"Ignoring empty camera frame.\")\n",
    "      # If loading a video, use 'break' instead of 'continue'.\n",
    "      continue\n",
    "\n",
    "    \n",
    "    # To improve performance, optionally mark the image as not writeable to\n",
    "    # pass by reference.\n",
    "    image.flags.writeable = False\n",
    "    image = cv2.cvtColor(image, cv2.COLOR_BGR2RGB)\n",
    "    results = holistic.process(image)\n",
    "    \n",
    "    \n",
    "    \n",
    "    # Draw landmark annotation on the image.\n",
    "    image.flags.writeable = True\n",
    "    image = cv2.cvtColor(image, cv2.COLOR_RGB2BGR)\n",
    "    mp_drawing.draw_landmarks(\n",
    "        image,\n",
    "        results.face_landmarks,\n",
    "        mp_holistic.FACEMESH_CONTOURS,\n",
    "        landmark_drawing_spec=False, # has to stay False\n",
    "        connection_drawing_spec=mp_drawing_styles\n",
    "        .get_default_face_mesh_contours_style())\n",
    "    mp_drawing.draw_landmarks(\n",
    "        image,\n",
    "        results.pose_landmarks,\n",
    "        mp_holistic.POSE_CONNECTIONS,\n",
    "        landmark_drawing_spec=mp_drawing_styles\n",
    "        .get_default_pose_landmarks_style())\n",
    "    \n",
    "    # Extract landmarks\n",
    "    try:\n",
    "        landmarks = results.pose_landmarks.landmark\n",
    "        print(landmarks)\n",
    "    except:\n",
    "        print(\"No landmarks found\")\n",
    "#     mp_drawing.plot_landmarks(results.pose_world_landmarks, mp_holistic.POSE_CONNECTIONS)\n",
    "    \n",
    "    # Flip the image horizontally for a selfie-view display.\n",
    "    cv2.imshow('MediaPipe Holistic', cv2.flip(image, 1))\n",
    "    if cv2.waitKey(10) & 0xFF == ord('q'):\n",
    "      break\n",
    "cap.release()\n",
    "cv2.destroyAllWindows()"
   ]
  },
  {
   "cell_type": "markdown",
   "id": "9b0634c7",
   "metadata": {},
   "source": [
    "#### Dictonnary[landmark_name]: index"
   ]
  },
  {
   "cell_type": "markdown",
   "id": "74e43c2c",
   "metadata": {},
   "source": [
    "<img src=https://google.github.io/mediapipe/images/mobile/pose_tracking_full_body_landmarks.png width=500>"
   ]
  },
  {
   "cell_type": "code",
   "execution_count": null,
   "id": "3d4f83e3",
   "metadata": {},
   "outputs": [],
   "source": [
    "dee = dict()\n",
    "count = 0\n",
    "for i in mp_holistic.PoseLandmark:\n",
    "    dee[str(i)[13::]] = count\n",
    "    count+=1\n",
    "print(dee)"
   ]
  },
  {
   "cell_type": "code",
   "execution_count": null,
   "id": "90023761",
   "metadata": {},
   "outputs": [],
   "source": [
    "from mpl_toolkits import mplot3d\n",
    "%matplotlib notebook\n",
    "import numpy as np\n",
    "import matplotlib.pyplot as plt\n",
    "\n",
    "fig = plt.figure(figsize=(5,5))\n",
    "ax = plt.axes(projection='3d')\n",
    "ax.set_xlabel('x')\n",
    "ax.set_ylabel('y')\n",
    "ax.set_zlabel('z')\n",
    "\n",
    "for key in dee.keys():\n",
    "    point = landmarks[dee[key]]\n",
    "    if point.visibility > 0.7:\n",
    "        ax.scatter(point.x,point.y, point.z)\n",
    "plt.show"
   ]
  },
  {
   "cell_type": "code",
   "execution_count": null,
   "id": "1f10ab2d",
   "metadata": {},
   "outputs": [],
   "source": [
    "mp_drawing.plot_landmarks(results.pose_world_landmarks, mp_holistic.POSE_CONNECTIONS)"
   ]
  },
  {
   "cell_type": "code",
   "execution_count": null,
   "id": "716f0d76",
   "metadata": {},
   "outputs": [],
   "source": [
    "landmarks[dee[\"NOSE\"]].visibility\n"
   ]
  }
 ],
 "metadata": {
  "kernelspec": {
   "display_name": "Python 3 (ipykernel)",
   "language": "python",
   "name": "python3"
  },
  "language_info": {
   "codemirror_mode": {
    "name": "ipython",
    "version": 3
   },
   "file_extension": ".py",
   "mimetype": "text/x-python",
   "name": "python",
   "nbconvert_exporter": "python",
   "pygments_lexer": "ipython3",
   "version": "3.9.7"
  }
 },
 "nbformat": 4,
 "nbformat_minor": 5
}
